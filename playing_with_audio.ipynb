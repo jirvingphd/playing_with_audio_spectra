{
 "nbformat": 4,
 "nbformat_minor": 2,
 "metadata": {
  "language_info": {
   "name": "python",
   "codemirror_mode": {
    "name": "ipython",
    "version": 3
   },
   "version": "3.6.9-final"
  },
  "orig_nbformat": 2,
  "file_extension": ".py",
  "mimetype": "text/x-python",
  "name": "python",
  "npconvert_exporter": "python",
  "pygments_lexer": "ipython3",
  "version": 3,
  "kernelspec": {
   "name": "python36964bit03393eb90e194b7a9fdc02111cc1aa9d",
   "display_name": "Python 3.6.9 64-bit"
  }
 },
 "cells": [
  {
   "cell_type": "code",
   "execution_count": 1,
   "metadata": {},
   "outputs": [
    {
     "output_type": "stream",
     "name": "stdout",
     "text": "fsds_1007219  v0.7.20 loaded.  Read the docs: https://fsds.readthedocs.io/en/latest/ \n"
    },
    {
     "output_type": "display_data",
     "data": {
      "text/plain": "<pandas.io.formats.style.Styler at 0x1c2474b898>",
      "text/html": "<style  type=\"text/css\" >\n</style><table id=\"T_2f81f6ee_76bb_11ea_8d81_acde48001122\" ><caption>Loaded Packages and Handles</caption><thead>    <tr>        <th class=\"col_heading level0 col0\" >Handle</th>        <th class=\"col_heading level0 col1\" >Package</th>        <th class=\"col_heading level0 col2\" >Description</th>    </tr></thead><tbody>\n                <tr>\n                                <td id=\"T_2f81f6ee_76bb_11ea_8d81_acde48001122row0_col0\" class=\"data row0 col0\" >dp</td>\n                        <td id=\"T_2f81f6ee_76bb_11ea_8d81_acde48001122row0_col1\" class=\"data row0 col1\" >IPython.display</td>\n                        <td id=\"T_2f81f6ee_76bb_11ea_8d81_acde48001122row0_col2\" class=\"data row0 col2\" >Display modules with helpful display and clearing commands.</td>\n            </tr>\n            <tr>\n                                <td id=\"T_2f81f6ee_76bb_11ea_8d81_acde48001122row1_col0\" class=\"data row1 col0\" >fs</td>\n                        <td id=\"T_2f81f6ee_76bb_11ea_8d81_acde48001122row1_col1\" class=\"data row1 col1\" >fsds_100719</td>\n                        <td id=\"T_2f81f6ee_76bb_11ea_8d81_acde48001122row1_col2\" class=\"data row1 col2\" >Custom data science bootcamp student package</td>\n            </tr>\n            <tr>\n                                <td id=\"T_2f81f6ee_76bb_11ea_8d81_acde48001122row2_col0\" class=\"data row2 col0\" >mpl</td>\n                        <td id=\"T_2f81f6ee_76bb_11ea_8d81_acde48001122row2_col1\" class=\"data row2 col1\" >matplotlib</td>\n                        <td id=\"T_2f81f6ee_76bb_11ea_8d81_acde48001122row2_col2\" class=\"data row2 col2\" >Matplotlib's base OOP module with formatting artists</td>\n            </tr>\n            <tr>\n                                <td id=\"T_2f81f6ee_76bb_11ea_8d81_acde48001122row3_col0\" class=\"data row3 col0\" >plt</td>\n                        <td id=\"T_2f81f6ee_76bb_11ea_8d81_acde48001122row3_col1\" class=\"data row3 col1\" >matplotlib.pyplot</td>\n                        <td id=\"T_2f81f6ee_76bb_11ea_8d81_acde48001122row3_col2\" class=\"data row3 col2\" >Matplotlib's matlab-like plotting module</td>\n            </tr>\n            <tr>\n                                <td id=\"T_2f81f6ee_76bb_11ea_8d81_acde48001122row4_col0\" class=\"data row4 col0\" >np</td>\n                        <td id=\"T_2f81f6ee_76bb_11ea_8d81_acde48001122row4_col1\" class=\"data row4 col1\" >numpy</td>\n                        <td id=\"T_2f81f6ee_76bb_11ea_8d81_acde48001122row4_col2\" class=\"data row4 col2\" >scientific computing with Python</td>\n            </tr>\n            <tr>\n                                <td id=\"T_2f81f6ee_76bb_11ea_8d81_acde48001122row5_col0\" class=\"data row5 col0\" >pd</td>\n                        <td id=\"T_2f81f6ee_76bb_11ea_8d81_acde48001122row5_col1\" class=\"data row5 col1\" >pandas</td>\n                        <td id=\"T_2f81f6ee_76bb_11ea_8d81_acde48001122row5_col2\" class=\"data row5 col2\" >High performance data structures and tools</td>\n            </tr>\n            <tr>\n                                <td id=\"T_2f81f6ee_76bb_11ea_8d81_acde48001122row6_col0\" class=\"data row6 col0\" >sns</td>\n                        <td id=\"T_2f81f6ee_76bb_11ea_8d81_acde48001122row6_col1\" class=\"data row6 col1\" >seaborn</td>\n                        <td id=\"T_2f81f6ee_76bb_11ea_8d81_acde48001122row6_col2\" class=\"data row6 col2\" >High-level data visualization library based on matplotlib</td>\n            </tr>\n    </tbody></table>"
     },
     "metadata": {}
    },
    {
     "output_type": "display_data",
     "data": {
      "text/html": "        <script type=\"text/javascript\">\n        window.PlotlyConfig = {MathJaxConfig: 'local'};\n        if (window.MathJax) {MathJax.Hub.Config({SVG: {font: \"STIX-Web\"}});}\n        if (typeof require !== 'undefined') {\n        require.undef(\"plotly\");\n        requirejs.config({\n            paths: {\n                'plotly': ['https://cdn.plot.ly/plotly-latest.min']\n            }\n        });\n        require(['plotly'], function(Plotly) {\n            window._Plotly = Plotly;\n        });\n        }\n        </script>\n        "
     },
     "metadata": {}
    },
    {
     "output_type": "stream",
     "name": "stdout",
     "text": "[i] Pandas .iplot() method activated.\n"
    }
   ],
   "source": [
    "from fsds_100719.imports import *"
   ]
  },
  {
   "cell_type": "markdown",
   "metadata": {},
   "source": [
    "https://analyticsindiamag.com/step-by-step-guide-to-audio-visualization-in-python/"
   ]
  },
  {
   "cell_type": "code",
   "execution_count": 2,
   "metadata": {},
   "outputs": [],
   "source": [
    "# !pip install librosa"
   ]
  },
  {
   "cell_type": "code",
   "execution_count": 4,
   "metadata": {},
   "outputs": [
    {
     "output_type": "stream",
     "name": "stdout",
     "text": "Help on function load in module librosa.core.audio:\n\nload(path, sr=22050, mono=True, offset=0.0, duration=None, dtype=<class 'numpy.float32'>, res_type='kaiser_best')\n    Load an audio file as a floating point time series.\n    \n    Audio will be automatically resampled to the given rate\n    (default `sr=22050`).\n    \n    To preserve the native sampling rate of the file, use `sr=None`.\n    \n    Parameters\n    ----------\n    path : string, int, pathlib.Path or file-like object\n        path to the input file.\n    \n        Any codec supported by `soundfile` or `audioread` will work.\n    \n        Any string file paths, or any object implementing Python's\n        file interface (e.g. `pathlib.Path`) are supported as `path`.\n    \n        If the codec is supported by `soundfile`, then `path` can also be\n        an open file descriptor (int).\n    \n    sr   : number > 0 [scalar]\n        target sampling rate\n    \n        'None' uses the native sampling rate\n    \n    mono : bool\n        convert signal to mono\n    \n    offset : float\n        start reading after this time (in seconds)\n    \n    duration : float\n        only load up to this much audio (in seconds)\n    \n    dtype : numeric type\n        data type of `y`\n    \n    res_type : str\n        resample type (see note)\n    \n        .. note::\n            By default, this uses `resampy`'s high-quality mode ('kaiser_best').\n    \n            For alternative resampling modes, see `resample`\n    \n        .. note::\n           `audioread` may truncate the precision of the audio data to 16 bits.\n    \n           See https://librosa.github.io/librosa/ioformats.html for alternate\n           loading methods.\n    \n    \n    Returns\n    -------\n    y    : np.ndarray [shape=(n,) or (2, n)]\n        audio time series\n    \n    sr   : number > 0 [scalar]\n        sampling rate of `y`\n    \n    \n    Examples\n    --------\n    >>> # Load an ogg vorbis file\n    >>> filename = librosa.util.example_audio_file()\n    >>> y, sr = librosa.load(filename)\n    >>> y\n    array([ -4.756e-06,  -6.020e-06, ...,  -1.040e-06,   0.000e+00], dtype=float32)\n    >>> sr\n    22050\n    \n    >>> # Load a file and resample to 11 KHz\n    >>> filename = librosa.util.example_audio_file()\n    >>> y, sr = librosa.load(filename, sr=11025)\n    >>> y\n    array([ -2.077e-06,  -2.928e-06, ...,  -4.395e-06,   0.000e+00], dtype=float32)\n    >>> sr\n    11025\n    \n    >>> # Load 5 seconds of a file, starting 15 seconds in\n    >>> filename = librosa.util.example_audio_file()\n    >>> y, sr = librosa.load(filename, offset=15.0, duration=5.0)\n    >>> y\n    array([ 0.069,  0.1  , ..., -0.101,  0.   ], dtype=float32)\n    >>> sr\n    22050\n\n"
    }
   ],
   "source": [
    "import librosa\n",
    "import librosa.display as ldp\n",
    "help(librosa.load)"
   ]
  },
  {
   "cell_type": "code",
   "execution_count": 8,
   "metadata": {},
   "outputs": [],
   "source": [
    "data,sample_rate = librosa.load('One Hour 3rd Eye Awakening Isochroni.mp3', duration=300)"
   ]
  },
  {
   "cell_type": "code",
   "execution_count": 10,
   "metadata": {},
   "outputs": [
    {
     "output_type": "execute_result",
     "data": {
      "text/plain": "(6615000,)"
     },
     "metadata": {},
     "execution_count": 10
    }
   ],
   "source": [
    "data.shape"
   ]
  },
  {
   "cell_type": "code",
   "execution_count": 19,
   "metadata": {},
   "outputs": [
    {
     "output_type": "error",
     "ename": "SyntaxError",
     "evalue": "invalid syntax (<ipython-input-19-97d38a0d19d4>, line 1)",
     "traceback": [
      "\u001b[0;36m  File \u001b[0;32m\"<ipython-input-19-97d38a0d19d4>\"\u001b[0;36m, line \u001b[0;32m1\u001b[0m\n\u001b[0;31m    ibrosa.display.waveplot(data,sr=sample_rate,, max_points=50000.0, _axis='time')\u001b[0m\n\u001b[0m                                                ^\u001b[0m\n\u001b[0;31mSyntaxError\u001b[0m\u001b[0;31m:\u001b[0m invalid syntax\n"
     ]
    }
   ],
   "source": [
    "ibrosa.display.waveplot(data,sr=sample_rate,, max_points=50000.0, _axis='time')"
   ]
  },
  {
   "cell_type": "code",
   "execution_count": null,
   "metadata": {},
   "outputs": [],
   "source": []
  }
 ]
}